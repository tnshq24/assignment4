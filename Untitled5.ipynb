{
 "cells": [
  {
   "cell_type": "code",
   "execution_count": 7,
   "id": "61e463cb-2c61-4967-9a57-55639b8190cc",
   "metadata": {},
   "outputs": [],
   "source": [
    "#Q1\n",
    "\n",
    "#class is bluebrint to creat real world objects\n",
    "\n",
    "class ice_cream:\n",
    "    def __init__(self,manufacturer,flavor,price):\n",
    "        self.manufacturer = manufacturer\n",
    "        self.flavor = flavor\n",
    "        self.price = price"
   ]
  },
  {
   "cell_type": "code",
   "execution_count": 8,
   "id": "28aff027-7411-450a-94c5-f20dbca458db",
   "metadata": {},
   "outputs": [],
   "source": [
    "#here cornetto is real world object and we are creating this object on\n",
    "# the basis of the blueprint that we have defined\n",
    "cornetto = ice_cream(\"cream bell\",\"butterscotch\",60)"
   ]
  },
  {
   "cell_type": "code",
   "execution_count": 9,
   "id": "4b613a80-7fab-4dde-a63c-8246d7198cbc",
   "metadata": {},
   "outputs": [],
   "source": [
    "#Q2\n",
    "# 4 pillars of OOPS are:-\n",
    "# 1. Inheritence\n",
    "# 2. Polymorhism\n",
    "# 3. Encapsulation\n",
    "# 4. Abstraction"
   ]
  },
  {
   "cell_type": "code",
   "execution_count": 10,
   "id": "31045c08-c016-417a-a86f-04629b00d556",
   "metadata": {},
   "outputs": [],
   "source": [
    "#Q3\n",
    "#__init__ is used to initiate a class and assign it to object using parameters of a class. It is construtor which is used to whenever we create any new class.\n",
    "\n",
    "class class1:\n",
    "    def __init__(self):\n",
    "        print(\"This is a test class\")"
   ]
  },
  {
   "cell_type": "code",
   "execution_count": 11,
   "id": "872ff111-a646-4b71-8773-e490c060d6dd",
   "metadata": {},
   "outputs": [
    {
     "name": "stdout",
     "output_type": "stream",
     "text": [
      "This is a test class\n"
     ]
    }
   ],
   "source": [
    "test1 = class1()"
   ]
  },
  {
   "cell_type": "code",
   "execution_count": 30,
   "id": "ffb0726b-9eca-4392-95de-6a54b8ea94e2",
   "metadata": {},
   "outputs": [],
   "source": [
    "#Q4\n",
    "class class1:\n",
    "    def test1(self):\n",
    "        return \"This is class 1\"\n",
    "        \n",
    "class class2(class1):\n",
    "    def test2(self):\n",
    "        return \"This is class 2\""
   ]
  },
  {
   "cell_type": "code",
   "execution_count": 31,
   "id": "84367c72-714e-45bb-a651-b244895bdd3f",
   "metadata": {},
   "outputs": [],
   "source": [
    "obj1 = class1()\n",
    "obj2 = class2()"
   ]
  },
  {
   "cell_type": "code",
   "execution_count": null,
   "id": "1a5e497d-ee8c-43fa-a00d-838621cb2263",
   "metadata": {},
   "outputs": [],
   "source": [
    "# here class2 which is a child of parent class class1, is able to inherit\n",
    "# parent class class1's method\n",
    "obj2.test1, obj2.test2"
   ]
  }
 ],
 "metadata": {
  "kernelspec": {
   "display_name": "Python 3 (ipykernel)",
   "language": "python",
   "name": "python3"
  },
  "language_info": {
   "codemirror_mode": {
    "name": "ipython",
    "version": 3
   },
   "file_extension": ".py",
   "mimetype": "text/x-python",
   "name": "python",
   "nbconvert_exporter": "python",
   "pygments_lexer": "ipython3",
   "version": "3.10.8"
  }
 },
 "nbformat": 4,
 "nbformat_minor": 5
}
